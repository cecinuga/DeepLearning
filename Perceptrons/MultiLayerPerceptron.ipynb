{
 "cells": [
  {
   "cell_type": "code",
   "execution_count": 37,
   "metadata": {},
   "outputs": [],
   "source": [
    "import numpy as np\n",
    "import matplotlib.pyplot as plt\n",
    "from sklearn import datasets\n",
    "from sklearn.model_selection import train_test_split\n",
    "from matplotlib.colors import ListedColormap\n",
    "import math\n",
    "\n",
    "def normalize(X, axis=-1, order=2):\n",
    "    l2 = np.atleast_1d(np.linalg.norm(X, order, axis))\n",
    "    l2[l2 == 0] = 1\n",
    "    return X / np.expand_dims(l2, axis)\n",
    "    \n",
    "def to_categorical(x, n_col=None):\n",
    "    if not n_col:\n",
    "        n_col = np.amax(x) + 1\n",
    "    one_hot = np.zeros((x.shape[0], n_col))\n",
    "    one_hot[np.arange(x.shape[0]), x] = 1\n",
    "    return one_hot"
   ]
  },
  {
   "cell_type": "code",
   "execution_count": 24,
   "metadata": {},
   "outputs": [],
   "source": [
    "class MultiLayerPerceptron(object):\n",
    "    def __init__(self, layers=2):\n",
    "        self.layers = layers\n",
    "\n",
    "    def activation_function(self, h):\n",
    "        pass\n",
    "\n",
    "    def sigmoid(self, x):\n",
    "        return 1/(1+np.exp(-x)) * 1 - 1/(1+np.exp(-x))\n",
    "\n",
    "    def softmax(self, x):\n",
    "        e_x = np.exp(x - np.max(x, axis=-1, keepdims=True))\n",
    "        p = e_x / np.sum(e_x, axis=-1, keepdims=True)\n",
    "        return p * (1 - p)\n",
    "\n",
    "    def accuracy_score(y_true, y_pred):\n",
    "        return np.sum(y_true == y_pred, axis=0) / len(y_true)\n",
    "\n",
    "    def loss(self, y, p):\n",
    "        p = np.clip(p, 1e-15, 1 - 1e-15)\n",
    "        return - y * np.log(p) - (1 - y) * np.log(1 - p)\n",
    "\n",
    "    def acc(self, y, p):\n",
    "        return self.accuracy_score(np.argmax(y, axis=1), np.argmax(p, axis=1))\n",
    "\n",
    "    def gradient(self, y, p):\n",
    "        p = np.clip(p, 1e-15, 1 - 1e-15)\n",
    "        return - (y / p) + (1 - y) / (1 - p)\n",
    "\n",
    "    def _initialize_weights(self, X, y):\n",
    "        n_samples, n_features = X.shape\n",
    "        _, n_outputs = y.shape\n",
    "\n",
    "        limit = 1 / math.sqrt(n_features)\n",
    "        self.weights = np.random.uniform(-limit, limit, (n_features, self.layers))\n",
    "        self.bias = np.zeros((1, self.layers))\n",
    "\n",
    "        limit = 1 / math.sqrt(self.layers)\n",
    "        self.o_weights = np.random.uniform(-limit, limit, (self.layers, n_outputs))\n",
    "        self.o_bias = np.zeros((1, n_outputs))\n",
    "\n",
    "    def fit(self, X, y, bias=0.1, epochs=50, lr=0.001):\n",
    "        self._initialize_weights(X, y)\n",
    "\n",
    "        for e in range(epochs):\n",
    "            for i in range(len(X)):\n",
    "                pass\n",
    "\n",
    "    def predict(self, X, weights, bias):\n",
    "        pass\n",
    "\n",
    "    def accuracy(y_pred, y_true):\n",
    "        return (np.sum([y_pred == y_true])/len(y_pred))*100"
   ]
  },
  {
   "cell_type": "code",
   "execution_count": 36,
   "metadata": {},
   "outputs": [],
   "source": [
    "data = datasets.load_digits()\n",
    "X = normalize(data.data)\n",
    "y = data.target\n",
    "X_train, X_test, y_train, y_test = train_test_split(X, y, test_size=0.2)\n",
    "model = MultiLayerPerceptron()\n",
    "model.fit(X_train, y_train)"
   ]
  },
  {
   "cell_type": "code",
   "execution_count": 22,
   "metadata": {},
   "outputs": [],
   "source": []
  },
  {
   "cell_type": "code",
   "execution_count": null,
   "metadata": {},
   "outputs": [],
   "source": []
  }
 ],
 "metadata": {
  "kernelspec": {
   "display_name": "Python 3",
   "language": "python",
   "name": "python3"
  },
  "language_info": {
   "codemirror_mode": {
    "name": "ipython",
    "version": 3
   },
   "file_extension": ".py",
   "mimetype": "text/x-python",
   "name": "python",
   "nbconvert_exporter": "python",
   "pygments_lexer": "ipython3",
   "version": "3.7.0"
  },
  "orig_nbformat": 4,
  "vscode": {
   "interpreter": {
    "hash": "9900d9b40fdb1f963092859473403e4e186ccc00ca49614b61f63cdcb9f46f83"
   }
  }
 },
 "nbformat": 4,
 "nbformat_minor": 2
}
