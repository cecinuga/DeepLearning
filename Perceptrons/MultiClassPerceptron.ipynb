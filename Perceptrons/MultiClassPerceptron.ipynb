{
 "cells": [
  {
   "cell_type": "code",
   "execution_count": 120,
   "id": "bc3c7deb-3a0d-427c-b127-ea445c83bf9d",
   "metadata": {},
   "outputs": [],
   "source": [
    "import numpy as np\n",
    "import matplotlib.pyplot as plt\n",
    "from sklearn import datasets\n",
    "from sklearn.model_selection import train_test_split\n",
    "from matplotlib.colors import ListedColormap"
   ]
  },
  {
   "cell_type": "code",
   "execution_count": 121,
   "id": "5ce0e991-d8c9-498f-b805-0b4c06cb2083",
   "metadata": {},
   "outputs": [
    {
     "data": {
      "image/png": "[encoded data removed]",
      "text/plain": [
       "<Figure size 400x400 with 1 Axes>"
      ]
     },
     "metadata": {},
     "output_type": "display_data"
    }
   ],
   "source": [
    "X, y = datasets.make_blobs(n_samples=100, n_features=2, centers=3, random_state=10, shuffle=True, cluster_std=1)\n",
    "X_train, X_test, y_train, y_test = train_test_split(X, y, test_size=0.2)\n",
    "classes = np.unique(y_test)\n",
    "\n",
    "fig, ax = plt.subplots(figsize=(4, 4))\n",
    "#ax[0].scatter(X[:, 0], y)\n",
    "#ax[1].scatter(X[:, 1], y)\n",
    "ax.scatter(X[:, 0], X[:, 1])\n",
    "plt.show()\n"
   ]
  },
  {
   "cell_type": "code",
   "execution_count": 123,
   "id": "918f497a-d045-453b-804f-c88161d326ed",
   "metadata": {},
   "outputs": [
    {
     "ename": "IndexError",
     "evalue": "invalid index to scalar variable.",
     "output_type": "error",
     "traceback": [
      "\u001b[1;31m---------------------------------------------------------------------------\u001b[0m",
      "\u001b[1;31mIndexError\u001b[0m                                Traceback (most recent call last)",
      "\u001b[1;32m~\\AppData\\Local\\Temp\\ipykernel_21348\\2607916783.py\u001b[0m in \u001b[0;36m<module>\u001b[1;34m\u001b[0m\n\u001b[0;32m     81\u001b[0m \u001b[1;33m\u001b[0m\u001b[0m\n\u001b[0;32m     82\u001b[0m \u001b[0mmodel\u001b[0m \u001b[1;33m=\u001b[0m \u001b[0mMultiClassPerceptron\u001b[0m\u001b[1;33m(\u001b[0m\u001b[1;33m)\u001b[0m\u001b[1;33m\u001b[0m\u001b[0m\n\u001b[1;32m---> 83\u001b[1;33m \u001b[0mweights\u001b[0m\u001b[1;33m,\u001b[0m \u001b[0mbias\u001b[0m \u001b[1;33m=\u001b[0m \u001b[0mmodel\u001b[0m\u001b[1;33m.\u001b[0m\u001b[0mfit\u001b[0m\u001b[1;33m(\u001b[0m\u001b[0mX_train\u001b[0m\u001b[1;33m,\u001b[0m \u001b[0my_train\u001b[0m\u001b[1;33m,\u001b[0m \u001b[0mepochs\u001b[0m\u001b[1;33m=\u001b[0m\u001b[1;36m100\u001b[0m\u001b[1;33m,\u001b[0m \u001b[0mnrn\u001b[0m\u001b[1;33m=\u001b[0m\u001b[1;36m5\u001b[0m\u001b[1;33m,\u001b[0m \u001b[0mlr\u001b[0m\u001b[1;33m=\u001b[0m\u001b[1;36m0.1\u001b[0m\u001b[1;33m)\u001b[0m\u001b[1;33m\u001b[0m\u001b[0m\n\u001b[0m\u001b[0;32m     84\u001b[0m \u001b[0mmodel\u001b[0m\u001b[1;33m.\u001b[0m\u001b[0mpredict\u001b[0m\u001b[1;33m(\u001b[0m\u001b[0mX_test\u001b[0m\u001b[1;33m,\u001b[0m \u001b[0mweights\u001b[0m\u001b[1;33m,\u001b[0m \u001b[0mbias\u001b[0m\u001b[1;33m,\u001b[0m \u001b[0mclasses\u001b[0m\u001b[1;33m)\u001b[0m\u001b[1;33m\u001b[0m\u001b[0m\n\u001b[0;32m     85\u001b[0m \u001b[0maccuracy\u001b[0m \u001b[1;33m=\u001b[0m \u001b[0mmodel\u001b[0m\u001b[1;33m.\u001b[0m\u001b[0maccuracy\u001b[0m\u001b[1;33m(\u001b[0m\u001b[0my_test\u001b[0m\u001b[1;33m)\u001b[0m\u001b[1;33m\u001b[0m\u001b[0m\n",
      "\u001b[1;32m~\\AppData\\Local\\Temp\\ipykernel_21348\\2607916783.py\u001b[0m in \u001b[0;36mfit\u001b[1;34m(self, X, y, epochs, nrn, lr)\u001b[0m\n\u001b[0;32m     31\u001b[0m                         \u001b[0mupdate\u001b[0m \u001b[1;33m=\u001b[0m  \u001b[0mlr\u001b[0m \u001b[1;33m*\u001b[0m \u001b[0merror\u001b[0m\u001b[1;33m\u001b[0m\u001b[0m\n\u001b[0;32m     32\u001b[0m                         \u001b[0mbias\u001b[0m \u001b[1;33m=\u001b[0m \u001b[0mbias\u001b[0m \u001b[1;33m+\u001b[0m \u001b[0mupdate\u001b[0m\u001b[1;33m\u001b[0m\u001b[0m\n\u001b[1;32m---> 33\u001b[1;33m                         \u001b[0mn_weights\u001b[0m\u001b[1;33m[\u001b[0m\u001b[0mj\u001b[0m\u001b[1;33m]\u001b[0m\u001b[1;33m[\u001b[0m\u001b[0mint\u001b[0m\u001b[1;33m(\u001b[0m\u001b[0mneurons\u001b[0m\u001b[1;33m[\u001b[0m\u001b[0mj\u001b[0m\u001b[1;33m]\u001b[0m\u001b[1;33m)\u001b[0m\u001b[1;33m]\u001b[0m \u001b[1;33m=\u001b[0m \u001b[0mn_weights\u001b[0m\u001b[1;33m[\u001b[0m\u001b[0mj\u001b[0m\u001b[1;33m]\u001b[0m\u001b[1;33m[\u001b[0m\u001b[0mint\u001b[0m\u001b[1;33m(\u001b[0m\u001b[0mneurons\u001b[0m\u001b[1;33m[\u001b[0m\u001b[0mj\u001b[0m\u001b[1;33m]\u001b[0m\u001b[1;33m)\u001b[0m\u001b[1;33m]\u001b[0m \u001b[1;33m-\u001b[0m \u001b[0mupdate\u001b[0m\u001b[1;33m[\u001b[0m\u001b[0mint\u001b[0m\u001b[1;33m(\u001b[0m\u001b[0mneurons\u001b[0m\u001b[1;33m[\u001b[0m\u001b[0mj\u001b[0m\u001b[1;33m]\u001b[0m\u001b[1;33m)\u001b[0m\u001b[1;33m]\u001b[0m \u001b[1;33m*\u001b[0m \u001b[0mX\u001b[0m\u001b[1;33m[\u001b[0m\u001b[0mi\u001b[0m\u001b[1;33m]\u001b[0m\u001b[1;33m\u001b[0m\u001b[0m\n\u001b[0m\u001b[0;32m     34\u001b[0m                         \u001b[0mn_weights\u001b[0m\u001b[1;33m[\u001b[0m\u001b[0mj\u001b[0m\u001b[1;33m]\u001b[0m\u001b[1;33m[\u001b[0m\u001b[0mint\u001b[0m\u001b[1;33m(\u001b[0m\u001b[0my\u001b[0m\u001b[1;33m[\u001b[0m\u001b[0mi\u001b[0m\u001b[1;33m]\u001b[0m\u001b[1;33m)\u001b[0m\u001b[1;33m]\u001b[0m \u001b[1;33m=\u001b[0m \u001b[0mn_weights\u001b[0m\u001b[1;33m[\u001b[0m\u001b[0mj\u001b[0m\u001b[1;33m]\u001b[0m\u001b[1;33m[\u001b[0m\u001b[0mint\u001b[0m\u001b[1;33m(\u001b[0m\u001b[0my\u001b[0m\u001b[1;33m[\u001b[0m\u001b[0mi\u001b[0m\u001b[1;33m]\u001b[0m\u001b[1;33m)\u001b[0m\u001b[1;33m]\u001b[0m \u001b[1;33m+\u001b[0m \u001b[0mupdate\u001b[0m\u001b[1;33m[\u001b[0m\u001b[0mint\u001b[0m\u001b[1;33m(\u001b[0m\u001b[0my\u001b[0m\u001b[1;33m[\u001b[0m\u001b[0mi\u001b[0m\u001b[1;33m]\u001b[0m\u001b[1;33m)\u001b[0m\u001b[1;33m]\u001b[0m \u001b[1;33m*\u001b[0m \u001b[0mX\u001b[0m\u001b[1;33m[\u001b[0m\u001b[0mi\u001b[0m\u001b[1;33m]\u001b[0m\u001b[1;33m\u001b[0m\u001b[0m\n\u001b[0;32m     35\u001b[0m                         \"\"\"n_weights[j][int(neurons[j])] = n_weights[j][int(neurons[j])] - X[i]\n",
      "\u001b[1;31mIndexError\u001b[0m: invalid index to scalar variable."
     ]
    }
   ],
   "source": [
    "class MultiClassPerceptron(object):\n",
    "    def __init__(self):\n",
    "        pass\n",
    "    \n",
    "    def activation_function(self, preds):\n",
    "        return np.argmax(preds)\n",
    "    \n",
    "    def fit(self, X, y, epochs, nrn=25, lr=0.1):\n",
    "        n, m = X.shape\n",
    "        classes = np.unique(y)\n",
    "        n_classes = len(classes)\n",
    "\n",
    "\n",
    "        h = np.random.uniform(0, 1, n_classes)\n",
    "        bias = np.random.uniform(0, 1, n_classes)\n",
    "        error = np.random.uniform(0, 1, n_classes)\n",
    "        update = np.random.uniform(0, 1, n_classes)\n",
    "        weights = np.zeros((n_classes, m))\n",
    "        n_weights = np.random.uniform(0, 1, (nrn, n_classes, m))\n",
    "        neurons = np.ones(nrn)\n",
    "        for e in range(epochs):\n",
    "            for i in range(len(X)):\n",
    "                for j in range(nrn):\n",
    "                    for c in range(n_classes):\n",
    "                        h[c] = np.dot(X[i], n_weights[j][c]) + bias[c]\n",
    "                    neurons[j] = classes[self.activation_function(h)]\n",
    "\n",
    "\n",
    "                    if y[i] != neurons[j]:\n",
    "                        error[int(y[i])] = (y[i] - neurons[j])\n",
    "                        error[int(neurons[j])] = (y[i] - neurons[j])\n",
    "\n",
    "                        update[int(y[i])] =  lr * error[int(y[i])]\n",
    "                        update[int(neurons[j])] =  lr * error[int(neurons[j])]\n",
    "\n",
    "                        bias[int(y[i])] = bias[int(y[i])] + update[int(y[i])]\n",
    "                        bias[int(neurons[j])] = bias[int(neurons[j])] + update[int(neurons[j])]\n",
    "\n",
    "                        n_weights[j][int(neurons[j])] = n_weights[j][int(neurons[j])] - update[int(neurons[j])] * X[i]\n",
    "                        n_weights[j][int(y[i])] = n_weights[j][int(y[i])] + update[int(y[i])] * X[i]\n",
    "                        \"\"\"n_weights[j][int(neurons[j])] = n_weights[j][int(neurons[j])] - X[i]\n",
    "                        n_weights[j][int(y[i])] = n_weights[j][int(y[i])] + X[i]\"\"\"\n",
    "\n",
    "                    \"\"\"if y[i] != neurons[j]:\n",
    "                        for c in range(n_classes):\n",
    "                            error[c] = (y[i] - neurons[j])\n",
    "                            update[c] =  lr * error[c]\n",
    "                            n_weights[j][c] = n_weights[j][c] + update[c] * X[i]\n",
    "                            bias[c] = bias[c] + update[c]\n",
    "                    else:\n",
    "                        for c in range(n_classes):\n",
    "                            if classes[c] != neurons[j]:\n",
    "                                error[c] = (y[i] - neurons[j])\n",
    "                                update[c] =  lr * error[c]\n",
    "                                n_weights[j][c] = n_weights[j][c] + update[c] * X[i]\n",
    "                                bias[c] = bias[c] + update[c]\"\"\"\n",
    "\n",
    "\n",
    "        for n in range(len(n_weights)):\n",
    "            for c in range(n_classes):\n",
    "                for w in range(len(weights[c])):\n",
    "                    weights[c][w] = weights[c][w] + n_weights[n][c][w]\n",
    "        for c in range(n_classes):\n",
    "            for w in range(len(weights[c])):\n",
    "                weights[c][w] = weights[c][w] / len(n_weights)\n",
    "  \n",
    "        return weights, bias\n",
    "\n",
    "    \n",
    "    def predict(self, X, weights, bias, classes):\n",
    "        h = np.ones((X.shape[0], weights.shape[0]))\n",
    "        self.y_preds = np.ones(X.shape[0])\n",
    "        for i in range(len(X)):\n",
    "            h[i] = np.dot(weights, X[i])+bias\n",
    "            self.y_preds[i] = classes[self.activation_function(h[i])]\n",
    "         \n",
    "    def accuracy(self, y_test):\n",
    "        return (np.sum(self.y_preds == y_test)/len(self.y_preds))*100\n",
    "           \n",
    "    def get_boundary(self, bias, weights, x):\n",
    "        y = np.ones((len(weights)))\n",
    "        for i in range(len(y)):\n",
    "            m = - weights[i][0] / weights[i][1]\n",
    "            b = - bias[i] / weights[i][1]\n",
    "            y[i] = m * x + b \n",
    "        return y\n",
    "        \n",
    "model = MultiClassPerceptron()\n",
    "weights, bias = model.fit(X_train, y_train, epochs=100, nrn=5, lr=0.1)\n",
    "model.predict(X_test, weights, bias, classes)\n",
    "accuracy = model.accuracy(y_test)\n",
    "print(\"Accuracy: {0}%\".format(accuracy))\n",
    "fig, ax = plt.subplots(1)\n",
    "ax.scatter(X[:, 0], X[:, 1])\n",
    "\n",
    "x = np.linspace(-10, 10, 1000)\n",
    "y1 = np.array([model.get_boundary(bias, weights, i) for i in x])\n",
    "plt.xlim([-20, 20])\n",
    "plt.ylim([-15, 15])\n",
    "plt.plot(x, y1)\n",
    "plt.show()"
   ]
  },
  {
   "cell_type": "code",
   "execution_count": null,
   "id": "789ef427-d652-4f39-a139-24d35386bcf3",
   "metadata": {},
   "outputs": [],
   "source": []
  },
  {
   "cell_type": "code",
   "execution_count": null,
   "id": "e11cfd00-e897-4c60-872a-1d342f045cd2",
   "metadata": {},
   "outputs": [],
   "source": []
  }
 ],
 "metadata": {
  "kernelspec": {
   "display_name": "Python 3",
   "language": "python",
   "name": "python3"
  },
  "language_info": {
   "codemirror_mode": {
    "name": "ipython",
    "version": 3
   },
   "file_extension": ".py",
   "mimetype": "text/x-python",
   "name": "python",
   "nbconvert_exporter": "python",
   "pygments_lexer": "ipython3",
   "version": "3.7.0"
  },
  "vscode": {
   "interpreter": {
    "hash": "9900d9b40fdb1f963092859473403e4e186ccc00ca49614b61f63cdcb9f46f83"
   }
  }
 },
 "nbformat": 4,
 "nbformat_minor": 5
}
