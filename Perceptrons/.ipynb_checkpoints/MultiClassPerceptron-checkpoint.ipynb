{
 "cells": [
  {
   "cell_type": "code",
   "execution_count": 1,
   "id": "bc3c7deb-3a0d-427c-b127-ea445c83bf9d",
   "metadata": {},
   "outputs": [],
   "source": [
    "import numpy as np\n",
    "import matplotlib.pyplot as plt\n",
    "from sklearn import datasets\n",
    "from sklearn.model_selection import train_test_split\n",
    "from matplotlib.colors import ListedColormap"
   ]
  },
  {
   "cell_type": "code",
   "execution_count": 26,
   "id": "5ce0e991-d8c9-498f-b805-0b4c06cb2083",
   "metadata": {},
   "outputs": [
    {
     "data": {
      "image/png": "[encoded data removed]",
      "text/plain": [
       "<Figure size 400x400 with 1 Axes>"
      ]
     },
     "metadata": {},
     "output_type": "display_data"
    }
   ],
   "source": [
    "X, y = datasets.make_blobs(n_samples=300, n_features=2, centers=3, random_state=10, shuffle=True, cluster_std=1)\n",
    "X_train, X_test, y_train, y_test = train_test_split(X, y, test_size=0.2)\n",
    "\n",
    "fig, ax = plt.subplots(figsize=(4, 4))\n",
    "#ax[0].scatter(X[:, 0], y)\n",
    "#ax[1].scatter(X[:, 1], y)\n",
    "ax.scatter(X[:, 0], X[:, 1])\n",
    "plt.show()\n"
   ]
  },
  {
   "cell_type": "code",
   "execution_count": null,
   "id": "918f497a-d045-453b-804f-c88161d326ed",
   "metadata": {},
   "outputs": [],
   "source": [
    "class MultiClassPerceptron(object):\n",
    "    def __init__(self):\n",
    "        pass\n",
    "    \n",
    "    def activation_function(self, preds):\n",
    "        return np.argmax(preds)\n",
    "    \n",
    "    def fit(self, X, y, epochs, nrn=25, lr=0.1):\n",
    "        n, m = X.shape\n",
    "        n_classes = len(np.unique(y))\n",
    "        h = np.random.uniform(0, 1, n_classes)\n",
    "        bias = np.random.uniform(0, 1, n_classes)\n",
    "        error = np.random.uniform(0, 1, n_classes)\n",
    "        update = np.random.uniform(0, 1, n_classes)\n",
    "        weights = np.random.uniform(0, 1, (n_classes, m))\n",
    "        n_weights = np.random.uniform(0, 1, (nrn, n_classes, m))\n",
    "        neurons = np.ones(nrn)\n",
    "        for e in range(epochs):\n",
    "            for i in range(len(X)):\n",
    "                for j in range(nrn):\n",
    "                    for c in range(n_classes):\n",
    "                        h[c] = np.dot(X[i], n_weights[j][c]) + bias[c]\n",
    "                        error[c] = (y[i] - neurons[j])\n",
    "                        update[c] =  lr * error[c]\n",
    "                        n_weights[j][c] = n_weights[j][c] + update[c] * X[i]\n",
    "                        bias[c] = bias[c] + update[c]\n",
    "                    neurons[j] = self.activation_function(h)\n",
    "    \n",
    "        for n in range(len(n_weights)-1):\n",
    "            for c in range(n_classes):\n",
    "                weights[c] = np.add(n_weights[n+1][c], n_weights[n+1][c])\n",
    "        for c in range(n_classes):\n",
    "            weights[c] = weights[c]/len(n_weights)\n",
    "\n",
    "        return weights, np.unique(neurons, return_counts=True)[0].argmax(), bias\n",
    "    \n",
    "    def predict(self, X, weights, bias):\n",
    "        h = np.ones((X.shape[0], weights.shape[0]))\n",
    "        self.y_preds = np.ones(X.shape[0])\n",
    "        for i in range(len(X)):\n",
    "            h[i] = np.dot(weights, X[i])+bias\n",
    "            self.y_preds[i] = self.activation_function(h[i])\n",
    "         \n",
    "    def accuracy(self, y_test):\n",
    "        return (np.sum(self.y_preds == y_test)/len(self.y_preds))*100\n",
    "           \n",
    "    def get_boundary(self, bias, weights, x):\n",
    "        m = - weights[0] / weights[1]\n",
    "        b = - bias / weights[1]\n",
    "        return m * x + b \n",
    "        \n",
    "model = MultiClassPerceptron()\n",
    "weights, y_pred, bias = model.fit(X_train, y_train, epochs=100, nrn=5, lr=0.1)\n",
    "model.predict(X_test, weights, bias)\n",
    "accuracy = model.accuracy(y_test)\n",
    "print(\"Accuracy: {0}%\".format(accuracy))\n",
    "fig, ax = plt.subplots(1)\n",
    "ax.scatter(X[:, 0], X[:, 1])\n",
    "\n",
    "x = np.linspace(-10, 10, 1000)\n",
    "y1 = np.array([model.get_boundary(bias, weights[0], i) for i in x])\n",
    "y2 = np.array([model.get_boundary(bias, weights[1], i) for i in x])\n",
    "y3 = np.array([model.get_boundary(bias, weights[2], i) for i in x])\n",
    "plt.xlim([-20, 20])\n",
    "plt.ylim([-15, 15])\n",
    "plt.plot(x, y1)\n",
    "plt.plot(x, y2)\n",
    "plt.plot(x, y3)\n",
    "plt.show()"
   ]
  },
  {
   "cell_type": "code",
   "execution_count": null,
   "id": "789ef427-d652-4f39-a139-24d35386bcf3",
   "metadata": {},
   "outputs": [],
   "source": []
  },
  {
   "cell_type": "code",
   "execution_count": null,
   "id": "e11cfd00-e897-4c60-872a-1d342f045cd2",
   "metadata": {},
   "outputs": [],
   "source": []
  }
 ],
 "metadata": {
  "kernelspec": {
   "display_name": "Python 3 (ipykernel)",
   "language": "python",
   "name": "python3"
  },
  "language_info": {
   "codemirror_mode": {
    "name": "ipython",
    "version": 3
   },
   "file_extension": ".py",
   "mimetype": "text/x-python",
   "name": "python",
   "nbconvert_exporter": "python",
   "pygments_lexer": "ipython3",
   "version": "3.9.7"
  }
 },
 "nbformat": 4,
 "nbformat_minor": 5
}
